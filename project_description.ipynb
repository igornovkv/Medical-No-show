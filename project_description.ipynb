{
 "cells": [
  {
   "attachments": {},
   "cell_type": "markdown",
   "metadata": {},
   "source": [
    "### (1) FRAME THE PROBLEM :\n",
    "\n",
    "**The first question to ask is what exactly is the business objective. How does the company expect to use and benefit from this model? This is important because it will determine how you frame the problem, what algorithms you will select, what performance measure you will use to evaluate your model, and how much effort you should spend tweaking it.**\n",
    "\n",
    "The existence of patients who do not keep their appointments, commonly referred to as no-shows, is currently one of the main problems of health centers. The absence of patients from their appointments causes the under-utilization of the center’s resources, which extends the waiting time of other patients (Carreras-García, Danae et al., 2020) [1].\n",
    "\n",
    "One of the solutions would be to create an efficient overbooking policy, that considers the following variables : Hospital capacity (C), Number of patients booked (N) and Number of patients who actually arrive (A) (Shannon, 2015) [2]. The overbooking policy must be conditioned such that C >= N >= A. The goal of an overbooking policy is to find the optimal N​ ​for each day, using the following function N = C - A. Our model will predict A, which will allow us to establish the optimal size of N."
   ]
  },
  {
   "attachments": {},
   "cell_type": "markdown",
   "metadata": {},
   "source": [
    "### (2) BENCHMARK ESTABLISHMENT : \n",
    "\n",
    "**The next question to ask is what the current solution looks like (if any). It will often give you a reference performance, as well as insights on how to solve the problem.**\n",
    "\n",
    "*Throughout a set of fifty prediction models, only two achieved an accuracy higher than the show rate. Moreover, a single study attained an area under the curve greater than the 0.9 value. These facts indicate the difficulty of this problem and the need for further research [1]. Of these articles, the most used technique was logistic regression. The different models considered are regression models (30 articles), tree based models (nine articles), neural networks (three articles), Markov based models (one article), Bayesian models (three articles) and ensemble/stacking models (four articles), with some of the articles implementing more than one predictive model.*\n",
    "\n",
    "*An important aspect to point out is that the efficiency of these models depends mainly on two elements: the discriminatory capacity of the predictors and the classification technique used to estimate the probabilities. Regarding the first of these two elements, several research works have been carried out to discover which are the best predictors that discriminate the patients who attend their appointments from those who do not. Variables such as age, gender, insurance, diagnosis, distance, weekday, visit time, lead time, and no-show appeared in at least half of the studies.*\n",
    "\n",
    "*A work that deserves special attention is Snowden et al. [3], which used NN, reaching an accuracy of 91.11% in a database with an attendance rate of 80%. With the current explosion of deep networks and the growth in databases, this methodology is a promising line of research.*"
   ]
  },
  {
   "attachments": {},
   "cell_type": "markdown",
   "metadata": {},
   "source": [
    "### (3) MODEL'S DESIGN\n",
    "\n",
    "**With all this information we're now ready to start designing our system** : is it supervised, unsupervised, or reinforcement learning? *Supervised*. Is it a classification task, a regression task, or something else? *Binary classification task*. Should you use batch learning or online learning techniques? *Batch learning*."
   ]
  }
 ],
 "metadata": {
  "language_info": {
   "name": "python"
  },
  "orig_nbformat": 4
 },
 "nbformat": 4,
 "nbformat_minor": 2
}
